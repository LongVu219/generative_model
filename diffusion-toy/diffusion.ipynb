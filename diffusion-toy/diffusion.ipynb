{
 "cells": [
  {
   "cell_type": "code",
   "execution_count": 1,
   "metadata": {},
   "outputs": [],
   "source": [
    "import sys\n",
    "sys.path.append('/home/dominhnhat/Classroom/deepul')\n",
    "from deepul.hw4_helper import *"
   ]
  },
  {
   "cell_type": "code",
   "execution_count": 2,
   "metadata": {},
   "outputs": [
    {
     "data": {
      "image/png": "[encoded data removed]",
      "text/plain": [
       "<Figure size 640x480 with 1 Axes>"
      ]
     },
     "metadata": {},
     "output_type": "display_data"
    }
   ],
   "source": [
    "visualize_q1_dataset()"
   ]
  },
  {
   "cell_type": "code",
   "execution_count": 39,
   "metadata": {},
   "outputs": [
    {
     "data": {
      "text/plain": [
       "array([9.9990e-01, 8.9992e-01, 7.9994e-01, 6.9996e-01, 5.9998e-01,\n",
       "       5.0000e-01, 4.0002e-01, 3.0004e-01, 2.0006e-01, 1.0008e-01,\n",
       "       1.0000e-04])"
      ]
     },
     "execution_count": 39,
     "metadata": {},
     "output_type": "execute_result"
    }
   ],
   "source": [
    "import numpy as np\n",
    "num_step = 10\n",
    "np.linspace(1 - 1e-4, 1e-4, num_step + 1)"
   ]
  },
  {
   "cell_type": "code",
   "execution_count": null,
   "metadata": {},
   "outputs": [],
   "source": [
    "import torch\n",
    "import torch.nn as nn\n",
    "import numpy as np\n",
    "from torch.nn.functional import mse_loss\n",
    "\n",
    "device = 'gpu'\n",
    "batch_size = 1024\n",
    "epochs = 100\n",
    "\n",
    "class diffusion_network(nn.Module):\n",
    "    def __init__(self, input_dim = 3, hidden_layer = [64, 64, 64, 64], output_dim = 2):\n",
    "        super(diffusion_network, self).__init__()\n",
    "        layer = []\n",
    "        prev = input_dim\n",
    "        for i in hidden_layer:\n",
    "            layer.append(nn.Linear(prev, i))\n",
    "            layer.append(nn.ReLU())\n",
    "            prev = i\n",
    "        layer.append(nn.Linear(prev, output_dim))\n",
    "\n",
    "        self.net = nn.Sequential(*layer)\n",
    "    \n",
    "    def loss(self, X, timestep):\n",
    "        total_loss = None\n",
    "        pi = torch.tensor(torch.pi)\n",
    "\n",
    "        for t in range(0, timestep + 1):\n",
    "            alpha_t = torch.cos((pi/2) * t)\n",
    "            sigma_t = torch.sin((pi/2) * t)\n",
    "            eps = torch.randn(X.shape)\n",
    "            X_t = alpha_t*X + sigma_t*eps\n",
    "            eps_hat = self.forward(X_t, t)\n",
    "            if (total_loss is None):\n",
    "                total_loss = mse_loss(eps_hat, eps)\n",
    "            else:\n",
    "                total_loss += mse_loss(eps_hat, eps)\n",
    "        \n",
    "        return total_loss\n",
    "\n",
    "    def forward(self, X, t):\n",
    "        t_expanded = torch.full((batch_size, 1), t)\n",
    "        new_input = torch.cat((X, t_expanded), dim = 1)\n",
    "        return self.net(new_input)\n",
    "    \n",
    "    def sample(self, n, timestep):\n",
    "        \n",
    "\n",
    "def train_1_epoch(model : diffusion_network):\n"
   ]
  },
  {
   "cell_type": "code",
   "execution_count": 14,
   "metadata": {},
   "outputs": [
    {
     "name": "stdout",
     "output_type": "stream",
     "text": [
      "(100000, 2)\n"
     ]
    },
    {
     "ename": "TypeError",
     "evalue": "'int' object is not subscriptable",
     "output_type": "error",
     "traceback": [
      "\u001b[0;31m---------------------------------------------------------------------------\u001b[0m",
      "\u001b[0;31mTypeError\u001b[0m                                 Traceback (most recent call last)",
      "Cell \u001b[0;32mIn[14], line 19\u001b[0m\n\u001b[1;32m     17\u001b[0m     \u001b[38;5;28;01mreturn\u001b[39;00m \u001b[38;5;241m0\u001b[39m, \u001b[38;5;241m0\u001b[39m, \u001b[38;5;241m0\u001b[39m\n\u001b[1;32m     18\u001b[0m     \u001b[38;5;66;03m#return train_losses, test_losses, all_samples\u001b[39;00m\n\u001b[0;32m---> 19\u001b[0m \u001b[43mq1_save_results\u001b[49m\u001b[43m(\u001b[49m\u001b[43mq1\u001b[49m\u001b[43m)\u001b[49m\n",
      "File \u001b[0;32m~/Classroom/deepul/deepul/hw4_helper.py:51\u001b[0m, in \u001b[0;36mq1_save_results\u001b[0;34m(fn)\u001b[0m\n\u001b[1;32m     48\u001b[0m test_data \u001b[38;5;241m=\u001b[39m q1_data(n\u001b[38;5;241m=\u001b[39m\u001b[38;5;241m10000\u001b[39m)\n\u001b[1;32m     49\u001b[0m train_losses, test_losses, samples \u001b[38;5;241m=\u001b[39m fn(train_data, test_data)\n\u001b[0;32m---> 51\u001b[0m \u001b[38;5;28mprint\u001b[39m(\u001b[38;5;124mf\u001b[39m\u001b[38;5;124m\"\u001b[39m\u001b[38;5;124mFinal Test Loss: \u001b[39m\u001b[38;5;132;01m{\u001b[39;00m\u001b[43mtest_losses\u001b[49m\u001b[43m[\u001b[49m\u001b[38;5;241;43m-\u001b[39;49m\u001b[38;5;241;43m1\u001b[39;49m\u001b[43m]\u001b[49m\u001b[38;5;132;01m:\u001b[39;00m\u001b[38;5;124m.4f\u001b[39m\u001b[38;5;132;01m}\u001b[39;00m\u001b[38;5;124m\"\u001b[39m)\n\u001b[1;32m     53\u001b[0m save_training_plot(\n\u001b[1;32m     54\u001b[0m     train_losses,\n\u001b[1;32m     55\u001b[0m     test_losses,\n\u001b[1;32m     56\u001b[0m     \u001b[38;5;124mf\u001b[39m\u001b[38;5;124m\"\u001b[39m\u001b[38;5;124mQ1 Train Plot\u001b[39m\u001b[38;5;124m\"\u001b[39m,\n\u001b[1;32m     57\u001b[0m     \u001b[38;5;124mf\u001b[39m\u001b[38;5;124m\"\u001b[39m\u001b[38;5;124mresults/q1_train_plot.png\u001b[39m\u001b[38;5;124m\"\u001b[39m\n\u001b[1;32m     58\u001b[0m )\n\u001b[1;32m     60\u001b[0m save_multi_scatter_2d(samples)\n",
      "\u001b[0;31mTypeError\u001b[0m: 'int' object is not subscriptable"
     ]
    }
   ],
   "source": [
    "def q1(train_data, test_data):\n",
    "    \"\"\"\n",
    "    train_data: A (100000, 2) numpy array of 2D points\n",
    "    test_data: A (10000, 2) numpy array of 2D points\n",
    "\n",
    "    Returns\n",
    "    - a (# of training iterations,) numpy array of train losses evaluated every minibatch\n",
    "    - a (# of num_epochs + 1,) numpy array of test losses evaluated at the start of training and the end of every epoch\n",
    "    - a numpy array of size (9, 2000, 2) of samples drawn from your model.\n",
    "      Draw 2000 samples for each of 9 different number of diffusion sampling steps\n",
    "      of evenly logarithmically spaced integers 1 to 512\n",
    "      hint: np.power(2, np.linspace(0, 9, 9)).astype(int)\n",
    "    \"\"\"\n",
    "\n",
    "    \"\"\" YOUR CODE HERE \"\"\"\n",
    "    print(train_data.shape)\n",
    "    return 0, 0, 0\n",
    "    #return train_losses, test_losses, all_samples\n",
    "q1_save_results(q1)"
   ]
  },
  {
   "cell_type": "code",
   "execution_count": null,
   "metadata": {},
   "outputs": [],
   "source": []
  }
 ],
 "metadata": {
  "kernelspec": {
   "display_name": "Python 3",
   "language": "python",
   "name": "python3"
  },
  "language_info": {
   "codemirror_mode": {
    "name": "ipython",
    "version": 3
   },
   "file_extension": ".py",
   "mimetype": "text/x-python",
   "name": "python",
   "nbconvert_exporter": "python",
   "pygments_lexer": "ipython3",
   "version": "3.10.12"
  }
 },
 "nbformat": 4,
 "nbformat_minor": 2
}
